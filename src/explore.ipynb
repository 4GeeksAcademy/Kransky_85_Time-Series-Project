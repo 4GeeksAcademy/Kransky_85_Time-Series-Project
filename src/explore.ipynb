{
    "cells": [
        {
            "cell_type": "markdown",
            "metadata": {},
            "source": [
                "# Explore here"
            ]
        },
        {
            "cell_type": "code",
            "execution_count": null,
            "metadata": {},
            "outputs": [],
            "source": []
        },
        {
            "cell_type": "code",
            "execution_count": null,
            "metadata": {},
            "outputs": [],
            "source": []
        },
        {
            "cell_type": "code",
            "execution_count": null,
            "metadata": {},
            "outputs": [],
            "source": []
        },
        {
            "cell_type": "markdown",
            "metadata": {},
            "source": [
                "📝 Instructions\n",
                "\n",
                "Sales forecasting system\n",
                "We want to set up our company's warehouse in another location and we need to estimate the rate of sales, which has been increasing since the company's creation, for the next few months in order to provide the space we will need.\n",
                "\n",
                "Step 1: Loading the dataset\n",
                "The dataset can be found in this project folder under the name sales.csv. You can load it into the code directly from the link (https://raw.githubusercontent.com/4GeeksAcademy/alternative-time-series-project/main/sales.csv) or download it and add it by hand in your repository.\n",
                "\n",
                "Step 2: Construct and analyze the time serie\n",
                "Construct the valid data structure for the time serie, graph it, and then analyze it and answer the following questions:\n",
                "\n",
                "Which is the tensor of the time serie?\n",
                "Which is the trend?\n",
                "Is it stationary?\n",
                "Is there variability or noise?\n",
                "NOTE: A tensor in a time serie is the minimum unit of time for which there is data. It can be every second, minute, hour, day, week, month...\n",
                "\n",
                "Step 3: Train an ARIMA\n",
                "Use the training data to find the best parameterization of your ARIMA model.\n",
                "\n",
                "Step 4: Predict with the test set\n",
                "Now use the trained model with the test set and compare the points with the real ones. Measure the performance of the time serie.\n",
                "\n",
                "Step 5: Save the model\n",
                "Store the model in the corresponding folder."
            ]
        }
    ],
    "metadata": {
        "kernelspec": {
            "display_name": "Python 3.8.13 64-bit ('3.8.13')",
            "language": "python",
            "name": "python3"
        },
        "language_info": {
            "codemirror_mode": {
                "name": "ipython",
                "version": 3
            },
            "file_extension": ".py",
            "mimetype": "text/x-python",
            "name": "python",
            "nbconvert_exporter": "python",
            "pygments_lexer": "ipython3",
            "version": "3.8.13"
        },
        "orig_nbformat": 4,
        "vscode": {
            "interpreter": {
                "hash": "110cc1dee26208153f2972f08a2ad52b6a56238dc66d48e87fb757ef2996db56"
            }
        }
    },
    "nbformat": 4,
    "nbformat_minor": 2
}
